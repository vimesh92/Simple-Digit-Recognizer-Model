{
 "cells": [
  {
   "cell_type": "code",
   "execution_count": 1,
   "metadata": {},
   "outputs": [],
   "source": [
    "import pandas as pd\n",
    "\n",
    "import numpy as np"
   ]
  },
  {
   "cell_type": "code",
   "execution_count": 2,
   "metadata": {},
   "outputs": [],
   "source": [
    "train = pd.read_csv('train.csv')\n",
    "\n",
    "test = pd.read_csv('test.csv')"
   ]
  },
  {
   "cell_type": "code",
   "execution_count": 4,
   "metadata": {},
   "outputs": [],
   "source": [
    "y=train.label\n",
    "X=train.drop('label',axis=1)"
   ]
  },
  {
   "cell_type": "code",
   "execution_count": 5,
   "metadata": {},
   "outputs": [],
   "source": [
    "from tensorflow.keras.utils import to_categorical"
   ]
  },
  {
   "cell_type": "code",
   "execution_count": 6,
   "metadata": {},
   "outputs": [],
   "source": [
    "y_cat = to_categorical(y)"
   ]
  },
  {
   "cell_type": "code",
   "execution_count": 7,
   "metadata": {},
   "outputs": [
    {
     "data": {
      "text/plain": [
       "(42000, 10)"
      ]
     },
     "execution_count": 7,
     "metadata": {},
     "output_type": "execute_result"
    }
   ],
   "source": [
    "y_cat.shape"
   ]
  },
  {
   "cell_type": "code",
   "execution_count": 8,
   "metadata": {},
   "outputs": [],
   "source": [
    "#normalisation\n",
    "X_1= X/255\n",
    "\n",
    "test_1= test/255"
   ]
  },
  {
   "cell_type": "code",
   "execution_count": 9,
   "metadata": {},
   "outputs": [
    {
     "data": {
      "text/plain": [
       "((42000, 784), (28000, 784))"
      ]
     },
     "execution_count": 9,
     "metadata": {},
     "output_type": "execute_result"
    }
   ],
   "source": [
    "X_1.shape,test_1.shape"
   ]
  },
  {
   "cell_type": "code",
   "execution_count": 10,
   "metadata": {},
   "outputs": [],
   "source": [
    "X_train = np.array(X_1).reshape(42000,28,28,1)\n",
    "\n",
    "X_test = np.array(test_1).reshape(28000,28,28,1)\n"
   ]
  },
  {
   "cell_type": "code",
   "execution_count": 11,
   "metadata": {},
   "outputs": [],
   "source": [
    "from tensorflow.keras.models import Sequential"
   ]
  },
  {
   "cell_type": "code",
   "execution_count": 12,
   "metadata": {},
   "outputs": [],
   "source": [
    "from tensorflow.keras.layers import Dense, Conv2D, Flatten, MaxPool2D"
   ]
  },
  {
   "cell_type": "code",
   "execution_count": 13,
   "metadata": {},
   "outputs": [],
   "source": [
    "model = Sequential()"
   ]
  },
  {
   "cell_type": "code",
   "execution_count": 14,
   "metadata": {},
   "outputs": [],
   "source": [
    "model.add(Conv2D(filters=32,kernel_size = (4,4),input_shape=(28,28,1),activation='relu'))\n",
    "\n",
    "model.add(MaxPool2D())\n",
    "\n",
    "model.add(Flatten()) #flattening the image after convo and pooling \n",
    "\n",
    "model.add(Dense(128, activation='relu'))\n",
    "\n",
    "model.add(Dense(10,activation='softmax')) #multiclass softmax\n",
    "\n",
    "model.compile(loss='categorical_crossentropy',optimizer='adam', metrics=['accuracy'])\n"
   ]
  },
  {
   "cell_type": "code",
   "execution_count": 15,
   "metadata": {},
   "outputs": [],
   "source": [
    "from tensorflow.keras.callbacks import EarlyStopping"
   ]
  },
  {
   "cell_type": "code",
   "execution_count": 16,
   "metadata": {},
   "outputs": [],
   "source": [
    "early = EarlyStopping(monitor='accuracy',patience=2)"
   ]
  },
  {
   "cell_type": "code",
   "execution_count": 23,
   "metadata": {},
   "outputs": [
    {
     "name": "stdout",
     "output_type": "stream",
     "text": [
      "Epoch 1/25\n",
      "1313/1313 [==============================] - 12s 9ms/step - loss: 0.0042 - accuracy: 0.9986\n",
      "Epoch 2/25\n",
      "1313/1313 [==============================] - 12s 9ms/step - loss: 0.0034 - accuracy: 0.9991\n",
      "Epoch 3/25\n",
      "1313/1313 [==============================] - 12s 9ms/step - loss: 0.0039 - accuracy: 0.9986\n",
      "Epoch 4/25\n",
      "1313/1313 [==============================] - 13s 10ms/step - loss: 0.0037 - accuracy: 0.9990\n",
      "Epoch 5/25\n",
      "1313/1313 [==============================] - 13s 10ms/step - loss: 0.0040 - accuracy: 0.9989\n",
      "Epoch 6/25\n",
      "1313/1313 [==============================] - 13s 10ms/step - loss: 0.0026 - accuracy: 0.9991\n",
      "Epoch 7/25\n",
      "1313/1313 [==============================] - 13s 10ms/step - loss: 0.0021 - accuracy: 0.9994\n",
      "Epoch 8/25\n",
      "1313/1313 [==============================] - 14s 11ms/step - loss: 0.0036 - accuracy: 0.9988\n",
      "Epoch 9/25\n",
      "1313/1313 [==============================] - 14s 10ms/step - loss: 0.0029 - accuracy: 0.9990\n",
      "Epoch 10/25\n",
      "1313/1313 [==============================] - 14s 11ms/step - loss: 0.0026 - accuracy: 0.9990\n",
      "Epoch 11/25\n",
      "1313/1313 [==============================] - 14s 10ms/step - loss: 0.0031 - accuracy: 0.9990\n",
      "Epoch 12/25\n",
      "1313/1313 [==============================] - 14s 10ms/step - loss: 0.0025 - accuracy: 0.9992\n",
      "Epoch 13/25\n",
      "1313/1313 [==============================] - 14s 11ms/step - loss: 0.0016 - accuracy: 0.9994\n",
      "Epoch 14/25\n",
      "1313/1313 [==============================] - 14s 11ms/step - loss: 0.0012 - accuracy: 0.9996\n",
      "Epoch 15/25\n",
      "1313/1313 [==============================] - 14s 11ms/step - loss: 0.0016 - accuracy: 0.9995\n",
      "Epoch 16/25\n",
      "1313/1313 [==============================] - 14s 11ms/step - loss: 0.0022 - accuracy: 0.9994\n",
      "Epoch 17/25\n",
      "1313/1313 [==============================] - 15s 11ms/step - loss: 0.0011 - accuracy: 0.9996\n",
      "Epoch 18/25\n",
      "1313/1313 [==============================] - 14s 11ms/step - loss: 0.0024 - accuracy: 0.9993\n",
      "Epoch 19/25\n",
      "1313/1313 [==============================] - 14s 11ms/step - loss: 5.1566e-04 - accuracy: 0.9999\n",
      "Epoch 20/25\n",
      "1313/1313 [==============================] - 14s 11ms/step - loss: 4.2556e-04 - accuracy: 0.9999\n",
      "Epoch 21/25\n",
      "1313/1313 [==============================] - 14s 11ms/step - loss: 0.0040 - accuracy: 0.9988\n",
      "Epoch 22/25\n",
      "1313/1313 [==============================] - 14s 10ms/step - loss: 9.3994e-04 - accuracy: 0.9997\n",
      "Epoch 23/25\n",
      "1313/1313 [==============================] - 14s 10ms/step - loss: 0.0023 - accuracy: 0.9994\n",
      "Epoch 24/25\n",
      "1313/1313 [==============================] - 14s 10ms/step - loss: 0.0010 - accuracy: 0.9997\n",
      "Epoch 25/25\n",
      "1313/1313 [==============================] - 14s 10ms/step - loss: 2.7929e-04 - accuracy: 1.0000\n"
     ]
    },
    {
     "data": {
      "text/plain": [
       "<tensorflow.python.keras.callbacks.History at 0x1d3ed12c6c8>"
      ]
     },
     "execution_count": 23,
     "metadata": {},
     "output_type": "execute_result"
    }
   ],
   "source": [
    "model.fit(X_train,y_cat,epochs=25)"
   ]
  },
  {
   "cell_type": "code",
   "execution_count": 24,
   "metadata": {},
   "outputs": [],
   "source": [
    "predicted = model.predict_classes(X_test)"
   ]
  },
  {
   "cell_type": "code",
   "execution_count": 25,
   "metadata": {},
   "outputs": [
    {
     "data": {
      "text/plain": [
       "array([2, 0, 9, ..., 3, 9, 2], dtype=int64)"
      ]
     },
     "execution_count": 25,
     "metadata": {},
     "output_type": "execute_result"
    }
   ],
   "source": [
    "predicted"
   ]
  },
  {
   "cell_type": "code",
   "execution_count": 26,
   "metadata": {},
   "outputs": [],
   "source": [
    "sub = pd.read_csv('sample_submission.csv')"
   ]
  },
  {
   "cell_type": "code",
   "execution_count": 27,
   "metadata": {},
   "outputs": [],
   "source": [
    "sub['Label'] = predicted"
   ]
  },
  {
   "cell_type": "code",
   "execution_count": 28,
   "metadata": {},
   "outputs": [],
   "source": [
    "sub.to_csv('vk_submission_three.csv',index=False) #0.98742"
   ]
  },
  {
   "cell_type": "code",
   "execution_count": 30,
   "metadata": {},
   "outputs": [],
   "source": [
    "import os"
   ]
  },
  {
   "cell_type": "code",
   "execution_count": 32,
   "metadata": {},
   "outputs": [
    {
     "name": "stdout",
     "output_type": "stream",
     "text": [
      "export_path = C:\\Users\\IT\\Downloads\\digit-recognizer\\1\n",
      "\n",
      "INFO:tensorflow:Assets written to: C:\\Users\\IT\\Downloads\\digit-recognizer\\1\\assets\n",
      "\n",
      "Saved model\n"
     ]
    }
   ],
   "source": [
    "import tensorflow as tf\n",
    "import os\n",
    "\n",
    "MODEL_DIR = os.getcwd()\n",
    "version = 1\n",
    "export_path = os.path.join(MODEL_DIR, str(version))\n",
    "print('export_path = {}\\n'.format(export_path))\n",
    "\n",
    "tf.keras.models.save_model(\n",
    "    model,\n",
    "    export_path,\n",
    "    overwrite=True,\n",
    "    include_optimizer=True,\n",
    "    save_format=None,\n",
    "    signatures=None,\n",
    "    options=None\n",
    ")\n",
    "\n",
    "print('\\nSaved model')\n"
   ]
  },
  {
   "cell_type": "code",
   "execution_count": 45,
   "metadata": {},
   "outputs": [
    {
     "name": "stdout",
     "output_type": "stream",
     "text": [
      "Orignal: <class 'PIL.PngImagePlugin.PngImageFile'>\n",
      "NumPy array info:\n",
      "<class 'numpy.ndarray'>\n",
      "type: float32\n",
      "shape: (28, 28, 3)\n",
      "converting NumPy array: <class 'PIL.Image.Image'>\n"
     ]
    }
   ],
   "source": [
    "from keras.preprocessing.image import load_img\n",
    "from keras.preprocessing.image import img_to_array\n",
    "from keras.preprocessing.image import array_to_img\n",
    "\n",
    "# load the image\n",
    "img = load_img('new_test_/2.png')\n",
    "print(\"Orignal:\" ,type(img))\n",
    "\n",
    "img=img.resize((28, 28)) #converting to 28*28\n",
    "# convert to numpy array\n",
    "img_array = img_to_array(img)\n",
    "print(\"NumPy array info:\") \n",
    "print(type(img_array))    \n",
    "\n",
    "print(\"type:\",img_array.dtype)\n",
    "print(\"shape:\",img_array.shape)\n",
    "# convert back to image\n",
    "\n",
    "img_pil = array_to_img(img_array)\n",
    "print(\"converting NumPy array:\",type(img_pil))"
   ]
  },
  {
   "cell_type": "code",
   "execution_count": 46,
   "metadata": {},
   "outputs": [],
   "source": [
    "from matplotlib import pyplot as plt"
   ]
  },
  {
   "cell_type": "code",
   "execution_count": 47,
   "metadata": {},
   "outputs": [
    {
     "data": {
      "text/plain": [
       "<matplotlib.image.AxesImage at 0x1d40d0b5cc8>"
      ]
     },
     "execution_count": 47,
     "metadata": {},
     "output_type": "execute_result"
    },
    {
     "data": {
      "image/png": "[encoded data removed]",
      "text/plain": [
       "<Figure size 432x288 with 1 Axes>"
      ]
     },
     "metadata": {
      "needs_background": "light"
     },
     "output_type": "display_data"
    }
   ],
   "source": [
    "plt.imshow(img_pil)"
   ]
  },
  {
   "cell_type": "code",
   "execution_count": null,
   "metadata": {},
   "outputs": [],
   "source": []
  }
 ],
 "metadata": {
  "kernelspec": {
   "display_name": "Python 3",
   "language": "python",
   "name": "python3"
  },
  "language_info": {
   "codemirror_mode": {
    "name": "ipython",
    "version": 3
   },
   "file_extension": ".py",
   "mimetype": "text/x-python",
   "name": "python",
   "nbconvert_exporter": "python",
   "pygments_lexer": "ipython3",
   "version": "3.7.6"
  }
 },
 "nbformat": 4,
 "nbformat_minor": 4
}
